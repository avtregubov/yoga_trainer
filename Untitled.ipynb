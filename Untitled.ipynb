{
 "cells": [
  {
   "cell_type": "code",
   "execution_count": 1,
   "id": "7edf4317",
   "metadata": {},
   "outputs": [],
   "source": [
    "import argparse\n",
    "import logging\n",
    "import time\n",
    "import cv2\n",
    "import numpy as np\n",
    "import sys\n",
    "import math\n",
    "import json\n",
    "import os"
   ]
  },
  {
   "cell_type": "code",
   "execution_count": 2,
   "id": "428b4c19",
   "metadata": {},
   "outputs": [],
   "source": [
    "def angle_calc(p0, p1, p2 ):\n",
    "   \n",
    "    try:\n",
    "        a = (p1[0]-p0[0])**2 + (p1[1]-p0[1])**2+ (p1[2]-p0[2])**2 # p0-p1 \n",
    "        b = (p1[0]-p2[0])**2 + (p1[1]-p2[1])**2+ (p1[2]-p2[2])**2\n",
    "        c = (p2[0]-p0[0])**2 + (p2[1]-p0[1])**2+ (p2[2]-p0[2])**2\n",
    "\n",
    "        angle = math.acos( (a+b-c) / math.sqrt(4.0*a*b) ) * 180/math.pi    #triangle with known sides length        \n",
    "        return int(angle)\n",
    "    except :\n",
    "        return 0"
   ]
  },
  {
   "cell_type": "code",
   "execution_count": 49,
   "id": "76efd0e0",
   "metadata": {},
   "outputs": [
    {
     "name": "stdout",
     "output_type": "stream",
     "text": [
      "11\n",
      "84\n",
      "-36.5\n",
      "72\n"
     ]
    }
   ],
   "source": [
    "p0=[10,8,0]\n",
    "p1=[0,10,0]\n",
    "p2=[1,0,0]\n",
    "p0_OX_angel=angle_calc(np.subtract(p0,p1),[0,0,0],[1,0,0])\n",
    "p2_OX_angel=angle_calc(np.subtract(p2,p1),[0,0,0],[1,0,0])\n",
    "\n",
    "print (p0_OX_angel)\n",
    "print (p2_OX_angel)\n",
    "\n",
    "print  ((p0_OX_angel-p2_OX_angel)/2)\n",
    "print ( angle_calc(p0, p1, p2 ))"
   ]
  },
  {
   "cell_type": "code",
   "execution_count": null,
   "id": "1ab40015",
   "metadata": {},
   "outputs": [],
   "source": []
  },
  {
   "cell_type": "code",
   "execution_count": null,
   "id": "ef54ece1",
   "metadata": {},
   "outputs": [],
   "source": []
  }
 ],
 "metadata": {
  "kernelspec": {
   "display_name": "Python 3",
   "language": "python",
   "name": "python3"
  },
  "language_info": {
   "codemirror_mode": {
    "name": "ipython",
    "version": 3
   },
   "file_extension": ".py",
   "mimetype": "text/x-python",
   "name": "python",
   "nbconvert_exporter": "python",
   "pygments_lexer": "ipython3",
   "version": "3.7.6"
  }
 },
 "nbformat": 4,
 "nbformat_minor": 5
}
